{
 "cells": [
  {
   "cell_type": "markdown",
   "id": "6faeb287",
   "metadata": {},
   "source": [
    "# 394. Decode string"
   ]
  },
  {
   "cell_type": "code",
   "execution_count": 10,
   "id": "cfa72fd3",
   "metadata": {
    "ExecuteTime": {
     "end_time": "2021-12-15T03:02:42.564957Z",
     "start_time": "2021-12-15T03:02:42.542333Z"
    }
   },
   "outputs": [
    {
     "data": {
      "text/plain": [
       "'abccdcdcdxyz'"
      ]
     },
     "execution_count": 10,
     "metadata": {},
     "output_type": "execute_result"
    }
   ],
   "source": [
    "class Solution:\n",
    "    def decodeString(self, s: str) -> str:\n",
    "        stack = []\n",
    "        for c in s:\n",
    "            if c == ']':\n",
    "                repeatStr = ''\n",
    "                repeatCount = ''\n",
    "                while stack and stack[-1] != '[':\n",
    "                    repeatStr = stack.pop() + repeatStr\n",
    "                stack.pop()\n",
    "                while stack and stack[-1].isnumeric():\n",
    "                    repeatCount = stack.pop() + repeatCount\n",
    "                stack.append(repeatStr * int(repeatCount))\n",
    "            else:\n",
    "                stack.append(c)\n",
    "        return \"\".join(stack)\n",
    "\n",
    "Solution().decodeString(\"abc3[cd]xyz\")\n"
   ]
  },
  {
   "cell_type": "markdown",
   "id": "8b57704a",
   "metadata": {
    "ExecuteTime": {
     "end_time": "2021-12-15T03:06:51.197790Z",
     "start_time": "2021-12-15T03:06:51.186085Z"
    }
   },
   "source": [
    "stack 的pop和append都是后进先出 也就是从队尾append也从队尾pop"
   ]
  },
  {
   "cell_type": "code",
   "execution_count": null,
   "id": "dbd2753e",
   "metadata": {},
   "outputs": [],
   "source": []
  }
 ],
 "metadata": {
  "kernelspec": {
   "display_name": "Python 3 (ipykernel)",
   "language": "python",
   "name": "python3"
  },
  "language_info": {
   "codemirror_mode": {
    "name": "ipython",
    "version": 3
   },
   "file_extension": ".py",
   "mimetype": "text/x-python",
   "name": "python",
   "nbconvert_exporter": "python",
   "pygments_lexer": "ipython3",
   "version": "3.9.7"
  },
  "latex_envs": {
   "LaTeX_envs_menu_present": true,
   "autoclose": false,
   "autocomplete": true,
   "bibliofile": "biblio.bib",
   "cite_by": "apalike",
   "current_citInitial": 1,
   "eqLabelWithNumbers": true,
   "eqNumInitial": 1,
   "hotkeys": {
    "equation": "Ctrl-E",
    "itemize": "Ctrl-I"
   },
   "labels_anchors": false,
   "latex_user_defs": false,
   "report_style_numbering": false,
   "user_envs_cfg": false
  },
  "toc": {
   "base_numbering": 1,
   "nav_menu": {},
   "number_sections": true,
   "sideBar": true,
   "skip_h1_title": false,
   "title_cell": "Table of Contents",
   "title_sidebar": "Contents",
   "toc_cell": false,
   "toc_position": {},
   "toc_section_display": true,
   "toc_window_display": true
  },
  "varInspector": {
   "cols": {
    "lenName": 16,
    "lenType": 16,
    "lenVar": 40
   },
   "kernels_config": {
    "python": {
     "delete_cmd_postfix": "",
     "delete_cmd_prefix": "del ",
     "library": "var_list.py",
     "varRefreshCmd": "print(var_dic_list())"
    },
    "r": {
     "delete_cmd_postfix": ") ",
     "delete_cmd_prefix": "rm(",
     "library": "var_list.r",
     "varRefreshCmd": "cat(var_dic_list()) "
    }
   },
   "types_to_exclude": [
    "module",
    "function",
    "builtin_function_or_method",
    "instance",
    "_Feature"
   ],
   "window_display": false
  }
 },
 "nbformat": 4,
 "nbformat_minor": 5
}
